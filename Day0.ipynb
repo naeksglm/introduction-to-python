{
  "nbformat": 4,
  "nbformat_minor": 0,
  "metadata": {
    "colab": {
      "name": "Day_1.ipynb",
      "provenance": [],
      "collapsed_sections": [],
      "toc_visible": true
    },
    "kernelspec": {
      "display_name": "Python 3",
      "language": "python",
      "name": "python3"
    },
    "language_info": {
      "codemirror_mode": {
        "name": "ipython",
        "version": 3
      },
      "file_extension": ".py",
      "mimetype": "text/x-python",
      "name": "python",
      "nbconvert_exporter": "python",
      "pygments_lexer": "ipython3",
      "version": "3.7.4"
    }
  },
  "cells": [
    {
      "cell_type": "markdown",
      "metadata": {
        "id": "rwk84o-wU7fq"
      },
      "source": [
        "# What is Python?\n",
        "\n",
        "* Python is an interpreted, high-level and general-purpose programming language.\n",
        "* object-oriented approach aim to help programmers write clear\n",
        "* dynamically typed and garbage-collected.\n",
        "* Python was created in the late 1980s by Guido van Rossum"
      ]
    },
    {
      "cell_type": "code",
      "metadata": {
        "colab": {
          "base_uri": "https://localhost:8080/"
        },
        "id": "NGB3j3LcdcbR",
        "scrolled": true,
        "outputId": "ed85f891-de83-435d-d98e-5a1170e5e84e"
      },
      "source": [
        "print(\"Hello World1!\")"
      ],
      "execution_count": 2,
      "outputs": [
        {
          "output_type": "stream",
          "text": [
            "Hello World1!\n"
          ],
          "name": "stdout"
        }
      ]
    },
    {
      "cell_type": "code",
      "metadata": {
        "colab": {
          "base_uri": "https://localhost:8080/"
        },
        "id": "luSgefSQgFrV",
        "outputId": "6166b4d3-2b50-4303-fbbb-ea72e546bb9d"
      },
      "source": [
        "print('Hello World')\n",
        "print()"
      ],
      "execution_count": 3,
      "outputs": [
        {
          "output_type": "stream",
          "text": [
            "Hello World\n",
            "\n"
          ],
          "name": "stdout"
        }
      ]
    },
    {
      "cell_type": "markdown",
      "metadata": {
        "id": "CL5b6rFhVV8n"
      },
      "source": [
        "yorum yapılıyor buraya\n"
      ]
    },
    {
      "cell_type": "code",
      "metadata": {
        "id": "ppQs7AWGVe2v",
        "outputId": "0cce8f72-ee65-4b03-964b-f59a41c65ab3",
        "colab": {
          "base_uri": "https://localhost:8080/"
        }
      },
      "source": [
        "print(\"abcdef\")"
      ],
      "execution_count": 4,
      "outputs": [
        {
          "output_type": "stream",
          "text": [
            "abcdef\n"
          ],
          "name": "stdout"
        }
      ]
    },
    {
      "cell_type": "code",
      "metadata": {
        "colab": {
          "base_uri": "https://localhost:8080/",
          "height": 70
        },
        "id": "g_52IrQIgcPv",
        "outputId": "8fd62e25-a0e8-453a-8b90-61795d3cbaf1"
      },
      "source": [
        "print(\"Hello1\")\n",
        "print(\"Hello2\")\n",
        "print(\"Hello3\")\n",
        "print(\"Welcome to Our Python course\")"
      ],
      "execution_count": null,
      "outputs": [
        {
          "output_type": "stream",
          "text": [
            "Hello1\n",
            "Hello2\n",
            "Hello3\n",
            "Welcome to Our Python course\n"
          ],
          "name": "stdout"
        }
      ]
    },
    {
      "cell_type": "code",
      "metadata": {
        "colab": {
          "base_uri": "https://localhost:8080/",
          "height": 132
        },
        "id": "2ualX2qpg3Hy",
        "outputId": "6f5bf215-4619-43b0-ca2a-35e7f275e02e"
      },
      "source": [
        "print \"Hello World\""
      ],
      "execution_count": null,
      "outputs": [
        {
          "output_type": "error",
          "ename": "SyntaxError",
          "evalue": "Missing parentheses in call to 'print'. Did you mean print(\"Hello World\")? (<ipython-input-4-2e860ebf713e>, line 1)",
          "traceback": [
            "\u001b[1;36m  File \u001b[1;32m\"<ipython-input-4-2e860ebf713e>\"\u001b[1;36m, line \u001b[1;32m1\u001b[0m\n\u001b[1;33m    print \"Hello World\"\u001b[0m\n\u001b[1;37m                      ^\u001b[0m\n\u001b[1;31mSyntaxError\u001b[0m\u001b[1;31m:\u001b[0m Missing parentheses in call to 'print'. Did you mean print(\"Hello World\")?\n"
          ]
        }
      ]
    },
    {
      "cell_type": "code",
      "metadata": {
        "colab": {
          "base_uri": "https://localhost:8080/",
          "height": 168
        },
        "id": "0BOHOWOdhcgp",
        "outputId": "10918476-5bf1-4d4e-e744-7ec1f4e31855"
      },
      "source": [
        "print(Hello)"
      ],
      "execution_count": null,
      "outputs": [
        {
          "output_type": "error",
          "ename": "NameError",
          "evalue": "name 'Hello' is not defined",
          "traceback": [
            "\u001b[1;31m---------------------------------------------------------------------------\u001b[0m",
            "\u001b[1;31mNameError\u001b[0m                                 Traceback (most recent call last)",
            "\u001b[1;32m<ipython-input-5-85bf5114fa6b>\u001b[0m in \u001b[0;36m<module>\u001b[1;34m\u001b[0m\n\u001b[1;32m----> 1\u001b[1;33m \u001b[0mprint\u001b[0m\u001b[1;33m(\u001b[0m\u001b[0mHello\u001b[0m\u001b[1;33m)\u001b[0m\u001b[1;33m\u001b[0m\u001b[1;33m\u001b[0m\u001b[0m\n\u001b[0m",
            "\u001b[1;31mNameError\u001b[0m: name 'Hello' is not defined"
          ]
        }
      ]
    },
    {
      "cell_type": "code",
      "metadata": {
        "colab": {
          "base_uri": "https://localhost:8080/",
          "height": 132
        },
        "id": "G69sCzFUhi5j",
        "outputId": "02a98d09-409c-4600-d1a5-a8d7a06c9f2c"
      },
      "source": [
        "print(\"Hello')"
      ],
      "execution_count": null,
      "outputs": [
        {
          "output_type": "error",
          "ename": "SyntaxError",
          "evalue": "EOL while scanning string literal (<ipython-input-6-21f0c5b97628>, line 1)",
          "traceback": [
            "\u001b[1;36m  File \u001b[1;32m\"<ipython-input-6-21f0c5b97628>\"\u001b[1;36m, line \u001b[1;32m1\u001b[0m\n\u001b[1;33m    print(\"Hello')\u001b[0m\n\u001b[1;37m                  ^\u001b[0m\n\u001b[1;31mSyntaxError\u001b[0m\u001b[1;31m:\u001b[0m EOL while scanning string literal\n"
          ]
        }
      ]
    },
    {
      "cell_type": "markdown",
      "metadata": {
        "id": "REAE16WcU7gG"
      },
      "source": [
        "### Comments"
      ]
    },
    {
      "cell_type": "code",
      "metadata": {
        "id": "JsFmw9IuFSKR"
      },
      "source": [
        "#taking some notes \n",
        "#taking some notes\n",
        "#take a note"
      ],
      "execution_count": null,
      "outputs": []
    },
    {
      "cell_type": "code",
      "metadata": {
        "id": "llzXRK61FadN",
        "outputId": "18c4c096-2a3c-47ea-aae6-cbd4c8ac57e9"
      },
      "source": [
        "\n",
        "'''Michael Irwin Jordan is an American scientist, professor at the University of California, \n",
        "Berkeley and researcher in machine learning, statistics, and artificial intelligence.\n",
        "He is one of the leading figures in machine learning, \n",
        "and in 2016 Science reported him as the world's most influential computer scientist.\n",
        "'''.replace(\"\\n\",\" \")\n"
      ],
      "execution_count": null,
      "outputs": [
        {
          "output_type": "execute_result",
          "data": {
            "text/plain": [
              "\"Michael Irwin Jordan is an American scientist, professor at the University of California,  Berkeley and researcher in machine learning, statistics, and artificial intelligence. He is one of the leading figures in machine learning,  and in 2016 Science reported him as the world's most influential computer scientist. \""
            ]
          },
          "metadata": {
            "tags": []
          },
          "execution_count": 9
        }
      ]
    },
    {
      "cell_type": "code",
      "metadata": {
        "id": "Hbe5WQZAU7gI",
        "outputId": "20491d3c-c63b-44a0-fe8a-75b81766f30e"
      },
      "source": [
        "\n",
        "\"\"\"write something\"\"\"\n"
      ],
      "execution_count": null,
      "outputs": [
        {
          "output_type": "execute_result",
          "data": {
            "text/plain": [
              "'write something'"
            ]
          },
          "metadata": {
            "tags": []
          },
          "execution_count": 1
        }
      ]
    },
    {
      "cell_type": "markdown",
      "metadata": {
        "id": "G3sR2edmU7gI"
      },
      "source": [
        "### Declaring Variables\n",
        "\n",
        "* variable = value\n",
        "\n",
        "* n = 5"
      ]
    },
    {
      "cell_type": "code",
      "metadata": {
        "id": "Sb178VuUloLP",
        "scrolled": true,
        "outputId": "6dd7aa01-e5b3-4ead-b6d2-0dc4265c8d09"
      },
      "source": [
        "n = 1 \n",
        "print(n)"
      ],
      "execution_count": null,
      "outputs": [
        {
          "output_type": "stream",
          "text": [
            "1\n"
          ],
          "name": "stdout"
        }
      ]
    },
    {
      "cell_type": "code",
      "metadata": {
        "id": "18yuPbb5m9GG",
        "outputId": "ec4eacd6-2f85-4a53-985b-84b56e221364"
      },
      "source": [
        "p = n\n",
        "print(p)"
      ],
      "execution_count": null,
      "outputs": [
        {
          "output_type": "stream",
          "text": [
            "1\n"
          ],
          "name": "stdout"
        }
      ]
    },
    {
      "cell_type": "markdown",
      "metadata": {
        "id": "JH0PJONnU7gK"
      },
      "source": [
        "### Data Types\n",
        "* Integer\n",
        "* Float\n",
        "* String\n",
        "* Boolean\n",
        "* Complex\n",
        "* Dictionary\n",
        "* Tuple\n",
        "* Set\n"
      ]
    },
    {
      "cell_type": "code",
      "metadata": {
        "id": "GO6WONnhnVjB"
      },
      "source": [
        "#String\n",
        "hello = \"World\""
      ],
      "execution_count": null,
      "outputs": []
    },
    {
      "cell_type": "code",
      "metadata": {
        "id": "2YZLBCcinyfx",
        "outputId": "ff650c65-df7e-4d01-f07a-7ed72f592b83"
      },
      "source": [
        "print(hello) #print variable\n",
        "print(\"World\") #print value\n",
        "print(n)"
      ],
      "execution_count": null,
      "outputs": [
        {
          "output_type": "stream",
          "text": [
            "World\n",
            "World\n",
            "1\n"
          ],
          "name": "stdout"
        }
      ]
    },
    {
      "cell_type": "code",
      "metadata": {
        "id": "_5mLE0AVU7gL",
        "outputId": "1514991a-82c5-4b44-b14d-6eafa9291a99"
      },
      "source": [
        "#type() \n",
        "type(hello)"
      ],
      "execution_count": null,
      "outputs": [
        {
          "output_type": "execute_result",
          "data": {
            "text/plain": [
              "str"
            ]
          },
          "metadata": {
            "tags": []
          },
          "execution_count": 15
        }
      ]
    },
    {
      "cell_type": "code",
      "metadata": {
        "id": "letAfxW_oHH-",
        "outputId": "249a16bd-17c7-4d68-f5d1-18cdd221f80d"
      },
      "source": [
        "print(type(hello)) #print data type"
      ],
      "execution_count": null,
      "outputs": [
        {
          "output_type": "stream",
          "text": [
            "<class 'str'>\n"
          ],
          "name": "stdout"
        }
      ]
    },
    {
      "cell_type": "code",
      "metadata": {
        "id": "v-JP_L_HU7gM",
        "outputId": "331331e0-afe3-4bb0-b575-58c0bcb3d7b4"
      },
      "source": [
        "#Integer\n",
        "int_value = 5\n",
        "int_value"
      ],
      "execution_count": null,
      "outputs": [
        {
          "output_type": "execute_result",
          "data": {
            "text/plain": [
              "5"
            ]
          },
          "metadata": {
            "tags": []
          },
          "execution_count": 17
        }
      ]
    },
    {
      "cell_type": "code",
      "metadata": {
        "id": "lQcQh8oMomlP",
        "outputId": "9e98257e-9d11-4649-99a1-8ae79a900fd7"
      },
      "source": [
        "print(type(int_value))"
      ],
      "execution_count": null,
      "outputs": [
        {
          "output_type": "stream",
          "text": [
            "<class 'int'>\n"
          ],
          "name": "stdout"
        }
      ]
    },
    {
      "cell_type": "code",
      "metadata": {
        "id": "FMM4y1JXMjsL",
        "outputId": "33b10a4f-f116-4ab9-b620-18a4cc135562"
      },
      "source": [
        "t = 3.19\n",
        "print(type(t))"
      ],
      "execution_count": null,
      "outputs": [
        {
          "output_type": "stream",
          "text": [
            "<class 'float'>\n"
          ],
          "name": "stdout"
        }
      ]
    },
    {
      "cell_type": "code",
      "metadata": {
        "id": "1UOBmIy8U7gO",
        "outputId": "e5f09e7d-3206-4fd4-b1b0-309bd2cdaf39"
      },
      "source": [
        "type('x')"
      ],
      "execution_count": null,
      "outputs": [
        {
          "output_type": "execute_result",
          "data": {
            "text/plain": [
              "str"
            ]
          },
          "metadata": {
            "tags": []
          },
          "execution_count": 30
        }
      ]
    },
    {
      "cell_type": "code",
      "metadata": {
        "id": "7DtsrxEHyHUH",
        "outputId": "aedace54-b2a8-4f5b-da54-23933d4da4ce"
      },
      "source": [
        "#Boolean\n",
        "t, f = True, False\n",
        "print(type(t))\n",
        "print(t)\n",
        "print(f)"
      ],
      "execution_count": null,
      "outputs": [
        {
          "output_type": "stream",
          "text": [
            "<class 'bool'>\n",
            "True\n",
            "False\n"
          ],
          "name": "stdout"
        }
      ]
    },
    {
      "cell_type": "code",
      "metadata": {
        "id": "-2OMEqRHU7gP",
        "outputId": "826e2b8d-f94a-4055-bd7a-5a84dcaf358f"
      },
      "source": [
        "#swapping\n",
        "data1 = 7 \n",
        "data2 = 12\n",
        "data3 = 23\n",
        "data4 = 33\n",
        "\n",
        "data1, data2, data3 , data4 = data2 , data1, data4, data3\n",
        "print(data1, data2, data3, data4)"
      ],
      "execution_count": null,
      "outputs": [
        {
          "output_type": "stream",
          "text": [
            "12 7 33 23\n"
          ],
          "name": "stdout"
        }
      ]
    },
    {
      "cell_type": "code",
      "metadata": {
        "id": "JIc894Z8U7gP",
        "outputId": "077dc4be-287c-4303-bc82-1cd21c9f5795"
      },
      "source": [
        "print(\"data1:\", data1, \"data:\", data2)"
      ],
      "execution_count": null,
      "outputs": [
        {
          "output_type": "stream",
          "text": [
            "data1: 12 data: 7\n"
          ],
          "name": "stdout"
        }
      ]
    },
    {
      "cell_type": "code",
      "metadata": {
        "id": "KuGFHxLMU7gQ",
        "outputId": "9dc39338-31bb-41c1-d0fe-b23286446a3c"
      },
      "source": [
        "#length ifadesi bir string değerin uzunluğunu bulmamıza yarar.\n",
        "len(\"Pythoneer\")"
      ],
      "execution_count": null,
      "outputs": [
        {
          "output_type": "execute_result",
          "data": {
            "text/plain": [
              "9"
            ]
          },
          "metadata": {
            "tags": []
          },
          "execution_count": 34
        }
      ]
    },
    {
      "cell_type": "code",
      "metadata": {
        "id": "-EpQtmZ_U7gQ",
        "outputId": "a3965340-470a-420b-a455-41fa42e5d98e"
      },
      "source": [
        "len(\"Welcome to Turkish AI Hub\")"
      ],
      "execution_count": null,
      "outputs": [
        {
          "output_type": "execute_result",
          "data": {
            "text/plain": [
              "25"
            ]
          },
          "metadata": {
            "tags": []
          },
          "execution_count": 35
        }
      ]
    },
    {
      "cell_type": "code",
      "metadata": {
        "id": "1dcJAHnzU7gR",
        "outputId": "04a02335-2355-4988-e571-eaba17f0436e"
      },
      "source": [
        "hello"
      ],
      "execution_count": null,
      "outputs": [
        {
          "output_type": "execute_result",
          "data": {
            "text/plain": [
              "'World'"
            ]
          },
          "metadata": {
            "tags": []
          },
          "execution_count": 36
        }
      ]
    },
    {
      "cell_type": "code",
      "metadata": {
        "id": "UleuXLMVwCgG",
        "outputId": "a15c7706-3cf5-41a0-b5be-25a1df8321b6"
      },
      "source": [
        "print(len(hello)) #print data length "
      ],
      "execution_count": null,
      "outputs": [
        {
          "output_type": "stream",
          "text": [
            "5\n"
          ],
          "name": "stdout"
        }
      ]
    },
    {
      "cell_type": "code",
      "metadata": {
        "id": "PmNqgF4VU7gS",
        "outputId": "9d612b81-bd30-4f64-9a99-17c39725c912"
      },
      "source": [
        "p"
      ],
      "execution_count": null,
      "outputs": [
        {
          "output_type": "execute_result",
          "data": {
            "text/plain": [
              "5"
            ]
          },
          "metadata": {
            "tags": []
          },
          "execution_count": 38
        }
      ]
    },
    {
      "cell_type": "code",
      "metadata": {
        "id": "HeZyz0lhU7gS",
        "outputId": "1dcc3703-3a84-4c49-94cf-3aa8f6744fa5"
      },
      "source": [
        "len(5)"
      ],
      "execution_count": null,
      "outputs": [
        {
          "output_type": "error",
          "ename": "TypeError",
          "evalue": "object of type 'int' has no len()",
          "traceback": [
            "\u001b[1;31m---------------------------------------------------------------------------\u001b[0m",
            "\u001b[1;31mTypeError\u001b[0m                                 Traceback (most recent call last)",
            "\u001b[1;32m<ipython-input-39-91fed648bb37>\u001b[0m in \u001b[0;36m<module>\u001b[1;34m\u001b[0m\n\u001b[1;32m----> 1\u001b[1;33m \u001b[0mlen\u001b[0m\u001b[1;33m(\u001b[0m\u001b[1;36m5\u001b[0m\u001b[1;33m)\u001b[0m\u001b[1;33m\u001b[0m\u001b[1;33m\u001b[0m\u001b[0m\n\u001b[0m",
            "\u001b[1;31mTypeError\u001b[0m: object of type 'int' has no len()"
          ]
        }
      ]
    },
    {
      "cell_type": "code",
      "metadata": {
        "id": "cc45Isy2U7gT",
        "outputId": "53e432ec-2627-4b74-fd07-cb1c3532a4d8"
      },
      "source": [
        "len(15.6)"
      ],
      "execution_count": null,
      "outputs": [
        {
          "output_type": "error",
          "ename": "TypeError",
          "evalue": "object of type 'float' has no len()",
          "traceback": [
            "\u001b[1;31m---------------------------------------------------------------------------\u001b[0m",
            "\u001b[1;31mTypeError\u001b[0m                                 Traceback (most recent call last)",
            "\u001b[1;32m<ipython-input-40-79577706af1a>\u001b[0m in \u001b[0;36m<module>\u001b[1;34m\u001b[0m\n\u001b[1;32m----> 1\u001b[1;33m \u001b[0mlen\u001b[0m\u001b[1;33m(\u001b[0m\u001b[1;36m15.6\u001b[0m\u001b[1;33m)\u001b[0m\u001b[1;33m\u001b[0m\u001b[1;33m\u001b[0m\u001b[0m\n\u001b[0m",
            "\u001b[1;31mTypeError\u001b[0m: object of type 'float' has no len()"
          ]
        }
      ]
    },
    {
      "cell_type": "code",
      "metadata": {
        "id": "IBWyEOaJU7gT",
        "outputId": "f1007368-d825-4e5c-c96c-19b14b495de4"
      },
      "source": [
        "data22 = \"Data Science\"\n",
        "len(data22) "
      ],
      "execution_count": null,
      "outputs": [
        {
          "output_type": "execute_result",
          "data": {
            "text/plain": [
              "12"
            ]
          },
          "metadata": {
            "tags": []
          },
          "execution_count": 41
        }
      ]
    },
    {
      "cell_type": "code",
      "metadata": {
        "id": "37374p7OU7gU",
        "outputId": "d98129f5-a6f8-480b-bce2-d459596bc350"
      },
      "source": [
        "len(\"Data Science\")"
      ],
      "execution_count": null,
      "outputs": [
        {
          "output_type": "execute_result",
          "data": {
            "text/plain": [
              "12"
            ]
          },
          "metadata": {
            "tags": []
          },
          "execution_count": 42
        }
      ]
    },
    {
      "cell_type": "code",
      "metadata": {
        "id": "eya37pssU7gU",
        "outputId": "bd9829df-5a96-4b9c-8afa-5bbc12a13415"
      },
      "source": [
        "a = 15\n",
        "b = 23\n",
        "\n",
        "a, b = b, a\n",
        "print(a)\n",
        "print(b)"
      ],
      "execution_count": null,
      "outputs": [
        {
          "output_type": "stream",
          "text": [
            "23\n",
            "15\n"
          ],
          "name": "stdout"
        }
      ]
    },
    {
      "cell_type": "code",
      "metadata": {
        "id": "zzO03J3XU7gU",
        "outputId": "67902b2e-9d8b-4cb6-edac-74552c7b36e0"
      },
      "source": [
        "#F-string\n",
        "name = \"Turkey\"\n",
        "print(f'hello {name}') "
      ],
      "execution_count": null,
      "outputs": [
        {
          "output_type": "stream",
          "text": [
            "hello Turkey\n"
          ],
          "name": "stdout"
        }
      ]
    },
    {
      "cell_type": "code",
      "metadata": {
        "id": "sO_OdppiU7gV",
        "outputId": "0a8bb023-cd27-4e77-e06c-3569ff048fe8"
      },
      "source": [
        "print(\"Hello\", name)"
      ],
      "execution_count": null,
      "outputs": [
        {
          "output_type": "stream",
          "text": [
            "Hello Turkey\n"
          ],
          "name": "stdout"
        }
      ]
    },
    {
      "cell_type": "code",
      "metadata": {
        "id": "ndb2lJrPU7gV",
        "outputId": "b740f31b-2736-4556-dc80-27a1978e6f3d"
      },
      "source": [
        "name2 = \"Aslı\"\n",
        "print(\"Hello {}\".format(name2))"
      ],
      "execution_count": null,
      "outputs": [
        {
          "output_type": "stream",
          "text": [
            "Hello Aslı\n"
          ],
          "name": "stdout"
        }
      ]
    },
    {
      "cell_type": "code",
      "metadata": {
        "id": "se3fi2-eU7gW",
        "outputId": "1d1a1bae-eb17-45f8-f48f-7f053bdda3c4"
      },
      "source": [
        "data12 = 5\n",
        "data13 = 90\n",
        "print(\"My value:{} and Your value:{}\".format(data12, data13))"
      ],
      "execution_count": null,
      "outputs": [
        {
          "output_type": "stream",
          "text": [
            "My value:5 and Your value:90\n"
          ],
          "name": "stdout"
        }
      ]
    },
    {
      "cell_type": "code",
      "metadata": {
        "id": "774__zg4U7gW",
        "outputId": "fffd63b9-29de-48d7-8ca0-c5d260e37b47"
      },
      "source": [
        "print(f'My value: {data12} and your value: {data13}')"
      ],
      "execution_count": null,
      "outputs": [
        {
          "output_type": "stream",
          "text": [
            "My value: 5 and your value: 90\n"
          ],
          "name": "stdout"
        }
      ]
    },
    {
      "cell_type": "code",
      "metadata": {
        "id": "PSxA8HZ8U7gX",
        "outputId": "cb4278f0-2903-44e0-cc2d-cb99422e2146"
      },
      "source": [
        "print(\"My value:\" + str(data12) + \"Your Value:\" + str(data13))"
      ],
      "execution_count": null,
      "outputs": [
        {
          "output_type": "stream",
          "text": [
            "My value:5Your Value:90\n"
          ],
          "name": "stdout"
        }
      ]
    },
    {
      "cell_type": "code",
      "metadata": {
        "id": "5BU5IUTyU7gX"
      },
      "source": [
        "a = 50"
      ],
      "execution_count": null,
      "outputs": []
    },
    {
      "cell_type": "code",
      "metadata": {
        "id": "RarmwhVOU7gY",
        "outputId": "a038f5f0-57ab-400e-f4a6-903d8f089ab6"
      },
      "source": [
        "type(a)"
      ],
      "execution_count": null,
      "outputs": [
        {
          "output_type": "execute_result",
          "data": {
            "text/plain": [
              "int"
            ]
          },
          "metadata": {
            "tags": []
          },
          "execution_count": 74
        }
      ]
    },
    {
      "cell_type": "code",
      "metadata": {
        "id": "53UbPSpbU7gY",
        "outputId": "e3585c77-b5d1-45b6-861f-5d0745cbf582"
      },
      "source": [
        "type(str(a))"
      ],
      "execution_count": null,
      "outputs": [
        {
          "output_type": "execute_result",
          "data": {
            "text/plain": [
              "str"
            ]
          },
          "metadata": {
            "tags": []
          },
          "execution_count": 76
        }
      ]
    },
    {
      "cell_type": "code",
      "metadata": {
        "id": "Hs1Vbsb9U7gY",
        "outputId": "c0a85f2b-1edc-471e-eb00-e6be44c315c8"
      },
      "source": [
        "type(a)"
      ],
      "execution_count": null,
      "outputs": [
        {
          "output_type": "execute_result",
          "data": {
            "text/plain": [
              "int"
            ]
          },
          "metadata": {
            "tags": []
          },
          "execution_count": 81
        }
      ]
    },
    {
      "cell_type": "code",
      "metadata": {
        "id": "e6_W9Wg0U7gZ"
      },
      "source": [
        "a = str(a)"
      ],
      "execution_count": null,
      "outputs": []
    },
    {
      "cell_type": "code",
      "metadata": {
        "id": "1vrMyXPHU7gZ",
        "outputId": "e18d831e-81c0-4c15-e984-ad1df420379c"
      },
      "source": [
        "a"
      ],
      "execution_count": null,
      "outputs": [
        {
          "output_type": "execute_result",
          "data": {
            "text/plain": [
              "'50'"
            ]
          },
          "metadata": {
            "tags": []
          },
          "execution_count": 83
        }
      ]
    },
    {
      "cell_type": "code",
      "metadata": {
        "id": "vw6mWmmvU7ga",
        "outputId": "ce7da785-c8ee-415d-8177-da540895b2fe"
      },
      "source": [
        "type(a)"
      ],
      "execution_count": null,
      "outputs": [
        {
          "output_type": "execute_result",
          "data": {
            "text/plain": [
              "str"
            ]
          },
          "metadata": {
            "tags": []
          },
          "execution_count": 84
        }
      ]
    },
    {
      "cell_type": "markdown",
      "metadata": {
        "id": "rOEAqInQGFVu"
      },
      "source": [
        "## Aritmetic Operations"
      ]
    },
    {
      "cell_type": "code",
      "metadata": {
        "id": "OQzlT59exPuY",
        "outputId": "711b5dd9-6d5c-43f5-aa80-3dda2874931f"
      },
      "source": [
        "#exponential numbers\n",
        "5**2"
      ],
      "execution_count": null,
      "outputs": [
        {
          "output_type": "execute_result",
          "data": {
            "text/plain": [
              "25"
            ]
          },
          "metadata": {
            "tags": []
          },
          "execution_count": 51
        }
      ]
    },
    {
      "cell_type": "code",
      "metadata": {
        "id": "WFk7bz0uU7gb",
        "outputId": "82f553cc-a072-451e-8147-ef99f8eff982"
      },
      "source": [
        "5**3"
      ],
      "execution_count": null,
      "outputs": [
        {
          "output_type": "execute_result",
          "data": {
            "text/plain": [
              "125"
            ]
          },
          "metadata": {
            "tags": []
          },
          "execution_count": 52
        }
      ]
    },
    {
      "cell_type": "code",
      "metadata": {
        "id": "IT5uTIgBGRIz",
        "outputId": "2d1c0dc2-2a2e-4878-9472-b9ef8122e7ea"
      },
      "source": [
        "35+67"
      ],
      "execution_count": null,
      "outputs": [
        {
          "output_type": "execute_result",
          "data": {
            "text/plain": [
              "102"
            ]
          },
          "metadata": {
            "tags": []
          },
          "execution_count": 53
        }
      ]
    },
    {
      "cell_type": "code",
      "metadata": {
        "id": "UIwXGkZqGVId",
        "outputId": "ebb63ec3-f715-4032-b35a-a17b1fe8d37d"
      },
      "source": [
        "\"35\"+\"67\""
      ],
      "execution_count": null,
      "outputs": [
        {
          "output_type": "execute_result",
          "data": {
            "text/plain": [
              "'3567'"
            ]
          },
          "metadata": {
            "tags": []
          },
          "execution_count": 54
        }
      ]
    },
    {
      "cell_type": "code",
      "metadata": {
        "id": "yHzeMXvFU7gc",
        "outputId": "70cb65b8-3e1a-43f2-8ec6-7540e533db6a"
      },
      "source": [
        "\"Omer\" + \"Cengiz\""
      ],
      "execution_count": null,
      "outputs": [
        {
          "output_type": "execute_result",
          "data": {
            "text/plain": [
              "'OmerCengiz'"
            ]
          },
          "metadata": {
            "tags": []
          },
          "execution_count": 55
        }
      ]
    },
    {
      "cell_type": "code",
      "metadata": {
        "id": "Qx0vjBUmGZNk",
        "outputId": "a6afbc13-1a75-4c53-dec7-d9b105067e6a"
      },
      "source": [
        "\"35\" + 67 "
      ],
      "execution_count": null,
      "outputs": [
        {
          "output_type": "error",
          "ename": "TypeError",
          "evalue": "can only concatenate str (not \"int\") to str",
          "traceback": [
            "\u001b[1;31m---------------------------------------------------------------------------\u001b[0m",
            "\u001b[1;31mTypeError\u001b[0m                                 Traceback (most recent call last)",
            "\u001b[1;32m<ipython-input-56-bb64d695b9f6>\u001b[0m in \u001b[0;36m<module>\u001b[1;34m\u001b[0m\n\u001b[1;32m----> 1\u001b[1;33m \u001b[1;34m\"35\"\u001b[0m \u001b[1;33m+\u001b[0m \u001b[1;36m67\u001b[0m\u001b[1;33m\u001b[0m\u001b[1;33m\u001b[0m\u001b[0m\n\u001b[0m",
            "\u001b[1;31mTypeError\u001b[0m: can only concatenate str (not \"int\") to str"
          ]
        }
      ]
    },
    {
      "cell_type": "code",
      "metadata": {
        "id": "_EzMFsTMGbw5",
        "outputId": "7756bfa4-b322-4978-f4a0-fb6d87313058"
      },
      "source": [
        "\"35\"*3 "
      ],
      "execution_count": null,
      "outputs": [
        {
          "output_type": "execute_result",
          "data": {
            "text/plain": [
              "'353535'"
            ]
          },
          "metadata": {
            "tags": []
          },
          "execution_count": 57
        }
      ]
    },
    {
      "cell_type": "code",
      "metadata": {
        "id": "X_FiEHA9GlUH",
        "outputId": "d1d19375-b079-4c58-b56a-483c6e41525e"
      },
      "source": [
        "\"hello\"*4"
      ],
      "execution_count": null,
      "outputs": [
        {
          "output_type": "execute_result",
          "data": {
            "text/plain": [
              "'hellohellohellohello'"
            ]
          },
          "metadata": {
            "tags": []
          },
          "execution_count": 58
        }
      ]
    },
    {
      "cell_type": "code",
      "metadata": {
        "id": "vdNpEZGoU7ge",
        "outputId": "d5b2de3a-f316-4946-d6bc-5db8ba171765"
      },
      "source": [
        "\"hello\" \"world\""
      ],
      "execution_count": null,
      "outputs": [
        {
          "output_type": "execute_result",
          "data": {
            "text/plain": [
              "'helloworld'"
            ]
          },
          "metadata": {
            "tags": []
          },
          "execution_count": 59
        }
      ]
    },
    {
      "cell_type": "code",
      "metadata": {
        "id": "qCIBU4v8HH3Y",
        "outputId": "b8110b06-83cd-4ded-9354-32f7f5a4580f"
      },
      "source": [
        "x = 10\n",
        "\n",
        "print(x+2)\n",
        "print(x-2)\n",
        "print(x*2)\n",
        "print(x**2)\n",
        "print(x**4)\n",
        "print(x/2)\n",
        "print(x//2) \n",
        "print(x%2) "
      ],
      "execution_count": null,
      "outputs": [
        {
          "output_type": "stream",
          "text": [
            "12\n",
            "8\n",
            "20\n",
            "100\n",
            "10000\n",
            "5.0\n",
            "5\n",
            "0\n"
          ],
          "name": "stdout"
        }
      ]
    },
    {
      "cell_type": "code",
      "metadata": {
        "id": "imzLVXBYLNhW",
        "outputId": "9b249ef1-8ac5-47fb-d354-9d65b8e1d6a5"
      },
      "source": [
        "y = 13\n",
        "print(y/2)\n",
        "print(y//2)\n",
        "print(y % 2)"
      ],
      "execution_count": null,
      "outputs": [
        {
          "output_type": "stream",
          "text": [
            "6.5\n",
            "6\n",
            "1\n"
          ],
          "name": "stdout"
        }
      ]
    },
    {
      "cell_type": "code",
      "metadata": {
        "id": "21xH-WU1LhkS",
        "outputId": "8f23eecc-28da-4833-f93a-436a2969c7b5"
      },
      "source": [
        "z = 5\n",
        "z+=1 # this statement equals to z= z+1 , meaning while the previous value of z is 5, the new z value becomes 6. \n",
        "z"
      ],
      "execution_count": null,
      "outputs": [
        {
          "output_type": "execute_result",
          "data": {
            "text/plain": [
              "6"
            ]
          },
          "metadata": {
            "tags": []
          },
          "execution_count": 62
        }
      ]
    },
    {
      "cell_type": "code",
      "metadata": {
        "id": "u0ItbSe8U7gf",
        "outputId": "36e3db2a-571b-4704-87af-c1d14f51713d"
      },
      "source": [
        "z +=2 #z = z + 2\n",
        "z"
      ],
      "execution_count": null,
      "outputs": [
        {
          "output_type": "execute_result",
          "data": {
            "text/plain": [
              "8"
            ]
          },
          "metadata": {
            "tags": []
          },
          "execution_count": 63
        }
      ]
    },
    {
      "cell_type": "code",
      "metadata": {
        "id": "2HOE_xOGL3WQ",
        "outputId": "4b5bf1fd-b958-497e-d945-f56c090491ad"
      },
      "source": [
        "z*=2      # z = z * 2\n",
        "z"
      ],
      "execution_count": null,
      "outputs": [
        {
          "output_type": "execute_result",
          "data": {
            "text/plain": [
              "16"
            ]
          },
          "metadata": {
            "tags": []
          },
          "execution_count": 64
        }
      ]
    }
  ]
}